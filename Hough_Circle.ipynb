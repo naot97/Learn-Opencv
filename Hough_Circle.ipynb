{
  "nbformat": 4,
  "nbformat_minor": 0,
  "metadata": {
    "colab": {
      "name": "Hough Circle.ipynb",
      "provenance": [],
      "authorship_tag": "ABX9TyOMzXunYUCJP/cSmslW/W8O",
      "include_colab_link": true
    },
    "kernelspec": {
      "name": "python3",
      "display_name": "Python 3"
    }
  },
  "cells": [
    {
      "cell_type": "markdown",
      "metadata": {
        "id": "view-in-github",
        "colab_type": "text"
      },
      "source": [
        "<a href=\"https://colab.research.google.com/github/naot97/Learn-Opencv/blob/master/Hough_Circle.ipynb\" target=\"_parent\"><img src=\"https://colab.research.google.com/assets/colab-badge.svg\" alt=\"Open In Colab\"/></a>"
      ]
    },
    {
      "cell_type": "markdown",
      "metadata": {
        "id": "0qovqbHGLT3b",
        "colab_type": "text"
      },
      "source": [
        "# Import library"
      ]
    },
    {
      "cell_type": "code",
      "metadata": {
        "id": "EDajgg4z8K1g",
        "colab_type": "code",
        "colab": {}
      },
      "source": [
        "import cv2\n",
        "import numpy as np\n",
        "from google.colab.patches import cv2_imshow\n",
        "import math"
      ],
      "execution_count": 0,
      "outputs": []
    },
    {
      "cell_type": "code",
      "metadata": {
        "id": "zDNnHglx9jMn",
        "colab_type": "code",
        "colab": {
          "base_uri": "https://localhost:8080/",
          "height": 546
        },
        "outputId": "992b1950-c85d-4fc6-c2a2-32c4db90e541"
      },
      "source": [
        "ima = cv2.imread('circle.jpeg',0)\n",
        "ima_rgb = cv2.imread('circle.jpeg',1)\n",
        "h,w = ima.shape\n",
        "print('Image\\'s Shape :', ima.shape)\n",
        "cv2_imshow(ima)"
      ],
      "execution_count": 11,
      "outputs": [
        {
          "output_type": "stream",
          "text": [
            "Image's Shape : (512, 492)\n"
          ],
          "name": "stdout"
        },
        {
          "output_type": "display_data",
          "data": {
            "image/png": "[encoded data removed]",
            "text/plain": [
              "<PIL.Image.Image image mode=L size=492x512 at 0x7F52BBD02080>"
            ]
          },
          "metadata": {
            "tags": []
          }
        }
      ]
    },
    {
      "cell_type": "markdown",
      "metadata": {
        "id": "QPCXZcxyLZv2",
        "colab_type": "text"
      },
      "source": [
        "#Highlight image"
      ]
    },
    {
      "cell_type": "code",
      "metadata": {
        "id": "CkAj1QBv-onl",
        "colab_type": "code",
        "colab": {
          "base_uri": "https://localhost:8080/",
          "height": 529
        },
        "outputId": "1a96a5b4-e897-4b7c-a1cd-61d503904d7c"
      },
      "source": [
        "edges = cv2.Canny(ima,50,150,apertureSize = 3)\n",
        "cv2_imshow(edges)"
      ],
      "execution_count": 12,
      "outputs": [
        {
          "output_type": "display_data",
          "data": {
            "image/png": "[encoded data removed]",
            "text/plain": [
              "<PIL.Image.Image image mode=L size=492x512 at 0x7F52BBD7FC88>"
            ]
          },
          "metadata": {
            "tags": []
          }
        }
      ]
    },
    {
      "cell_type": "markdown",
      "metadata": {
        "id": "ZfxL4tPwLe8U",
        "colab_type": "text"
      },
      "source": [
        "#Implement Hough Circle"
      ]
    },
    {
      "cell_type": "code",
      "metadata": {
        "id": "5BEDEzuL-9NA",
        "colab_type": "code",
        "colab": {}
      },
      "source": [
        "threshold = 200\n",
        "\n",
        "for y in range(h) :\n",
        "  for x in range(w) :\n",
        "    for r in range(250) :\n",
        "      perimeter       = 3.14 * 2 * r\n",
        "      valid_num_point = int(perimeter * 0.5)\n",
        "      y_begin         = y - r\n",
        "      y_end           = y + r\n",
        "      s               = 0\n",
        "      for yy in range(y_begin,y_end + 1):\n",
        "        temp = np.sqrt(r**2 - (yy - y) **2)\n",
        "        xx1 = int(np.sqrt(temp) - x) \n",
        "        xx2 = int(x - np.sqrt(temp))\n",
        "\n",
        "        if edges[yy,xx1] >= threshold :\n",
        "          s = s + 1\n",
        "\n",
        "        if edges[yy,xx2] >= threshold :\n",
        "          s = s + 1\n",
        "\n",
        "        if (s >= valid_num_point):\n",
        "          cv2.circle(ima_rgb, (y,x), r, (255, 0, 0), 2)\n",
        "\n",
        "\n",
        "cv2_imshow(ima_rgb)       "
      ],
      "execution_count": 0,
      "outputs": []
    }
  ]
}