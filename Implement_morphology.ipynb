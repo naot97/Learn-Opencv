{
  "nbformat": 4,
  "nbformat_minor": 0,
  "metadata": {
    "colab": {
      "name": "Implement morphology.ipynb",
      "provenance": [],
      "toc_visible": true,
      "authorship_tag": "ABX9TyOtxDimiDVUTkRy0abiMrwB",
      "include_colab_link": true
    },
    "kernelspec": {
      "name": "python3",
      "display_name": "Python 3"
    }
  },
  "cells": [
    {
      "cell_type": "markdown",
      "metadata": {
        "id": "view-in-github",
        "colab_type": "text"
      },
      "source": [
        "<a href=\"https://colab.research.google.com/github/naot97/Learn-Opencv/blob/master/Implement_morphology.ipynb\" target=\"_parent\"><img src=\"https://colab.research.google.com/assets/colab-badge.svg\" alt=\"Open In Colab\"/></a>"
      ]
    },
    {
      "cell_type": "code",
      "metadata": {
        "id": "2GDOl3-L5RgY",
        "colab_type": "code",
        "colab": {}
      },
      "source": [
        "import cv2\n",
        "import numpy as np\n",
        "from google.colab import files\n",
        "from google.colab.patches import cv2_imshow\n"
      ],
      "execution_count": 0,
      "outputs": []
    },
    {
      "cell_type": "code",
      "metadata": {
        "id": "o8-30JQH7Fnf",
        "colab_type": "code",
        "outputId": "d96997ce-d2e8-48c1-a004-629520ac0896",
        "colab": {
          "base_uri": "https://localhost:8080/",
          "height": 184
        }
      },
      "source": [
        "img = cv2.imread('j.png',0)\n",
        "print(img.shape)\n",
        "cv2_imshow(img)"
      ],
      "execution_count": 4,
      "outputs": [
        {
          "output_type": "stream",
          "text": [
            "(150, 112)\n"
          ],
          "name": "stdout"
        },
        {
          "output_type": "display_data",
          "data": {
            "image/png": "[encoded data removed]",
            "text/plain": [
              "<PIL.Image.Image image mode=L size=112x150 at 0x7FB6329327F0>"
            ]
          },
          "metadata": {
            "tags": []
          }
        }
      ]
    },
    {
      "cell_type": "markdown",
      "metadata": {
        "id": "pqZGNQKq47hO",
        "colab_type": "text"
      },
      "source": [
        "## Implement Erosion"
      ]
    },
    {
      "cell_type": "code",
      "metadata": {
        "id": "38oybL5V7ZOy",
        "colab_type": "code",
        "outputId": "5da9c5a4-c232-4d18-f84d-7aba2defd0a2",
        "colab": {
          "base_uri": "https://localhost:8080/",
          "height": 167
        }
      },
      "source": [
        "def erosion(img,s):\n",
        "  m,n = img.shape\n",
        "  k = int(s/2)\n",
        "  result = np.zeros_like(img)\n",
        "  for i in range(m):\n",
        "    for j in range(n):\n",
        "      is_hold = True\n",
        "      if (img[i,j] == 255):\n",
        "        for ii in range(-k,k+1):\n",
        "          if i +ii < m :\n",
        "            for jj in range(-k,k+1):\n",
        "              if j + jj < n and img[i+ii,j+jj] == 0 :\n",
        "                is_hold = False\n",
        "                break\n",
        "            if result[i,j] == False :\n",
        "              break\n",
        "\n",
        "        if is_hold == True :\n",
        "          result[i,j] = 255\n",
        "\n",
        "  return result\n",
        "\n",
        "s = 7\n",
        "result = erosion(img,s)\n",
        "stack = np.hstack([img,result])\n",
        "cv2_imshow(stack)\n"
      ],
      "execution_count": 22,
      "outputs": [
        {
          "output_type": "display_data",
          "data": {
            "image/png": "[encoded data removed]",
            "text/plain": [
              "<PIL.Image.Image image mode=L size=224x150 at 0x7FB632696BE0>"
            ]
          },
          "metadata": {
            "tags": []
          }
        }
      ]
    },
    {
      "cell_type": "markdown",
      "metadata": {
        "id": "hpF3w89H6LcL",
        "colab_type": "text"
      },
      "source": [
        "## Implement dilation"
      ]
    },
    {
      "cell_type": "code",
      "metadata": {
        "id": "d7wlzkfk5oY0",
        "colab_type": "code",
        "colab": {
          "base_uri": "https://localhost:8080/",
          "height": 167
        },
        "outputId": "281ee09e-45e4-4ba6-8c72-2151c85459cd"
      },
      "source": [
        "def dilation(img,s):\n",
        "  m,n = img.shape\n",
        "  k = int(s/2)\n",
        "  result = np.zeros_like(img)\n",
        "  for i in range(m):\n",
        "    for j in range(n):\n",
        "      is_hold = False\n",
        "      for ii in range(-k,k+1):\n",
        "        if i +ii < m :\n",
        "          for jj in range(-k,k+1):\n",
        "            if j + jj < n and img[i+ii,j+jj] == 255 :\n",
        "              is_hold = True\n",
        "              break\n",
        "          if result[i,j] == True :\n",
        "            break\n",
        "\n",
        "      if is_hold == True :\n",
        "        result[i,j] = 255\n",
        "\n",
        "  return result\n",
        "\n",
        "s = 7\n",
        "result = dilation(img,s)\n",
        "stack = np.hstack([img,result])\n",
        "cv2_imshow(stack)\n"
      ],
      "execution_count": 23,
      "outputs": [
        {
          "output_type": "display_data",
          "data": {
            "image/png": "[encoded data removed]",
            "text/plain": [
              "<PIL.Image.Image image mode=L size=224x150 at 0x7FB6327E7668>"
            ]
          },
          "metadata": {
            "tags": []
          }
        }
      ]
    }
  ]
}