{
  "nbformat": 4,
  "nbformat_minor": 0,
  "metadata": {
    "colab": {
      "name": "Implement morphology.ipynb",
      "provenance": [],
      "toc_visible": true,
      "authorship_tag": "ABX9TyOxZreIyF8RCF/1OPovaU9+",
      "include_colab_link": true
    },
    "kernelspec": {
      "name": "python3",
      "display_name": "Python 3"
    }
  },
  "cells": [
    {
      "cell_type": "markdown",
      "metadata": {
        "id": "view-in-github",
        "colab_type": "text"
      },
      "source": [
        "<a href=\"https://colab.research.google.com/github/naot97/Learn-Opencv/blob/master/Implement_morphology.ipynb\" target=\"_parent\"><img src=\"https://colab.research.google.com/assets/colab-badge.svg\" alt=\"Open In Colab\"/></a>"
      ]
    },
    {
      "cell_type": "code",
      "metadata": {
        "id": "2GDOl3-L5RgY",
        "colab_type": "code",
        "colab": {}
      },
      "source": [
        "import cv2\n",
        "import numpy as np\n",
        "from google.colab import files\n",
        "from google.colab.patches import cv2_imshow\n"
      ],
      "execution_count": 0,
      "outputs": []
    },
    {
      "cell_type": "code",
      "metadata": {
        "id": "o8-30JQH7Fnf",
        "colab_type": "code",
        "outputId": "be0db26b-5585-4958-9e57-923904a15a77",
        "colab": {
          "base_uri": "https://localhost:8080/",
          "height": 184
        }
      },
      "source": [
        "img = cv2.imread('j.png',0)\n",
        "print(img.shape)\n",
        "cv2_imshow(img)"
      ],
      "execution_count": 17,
      "outputs": [
        {
          "output_type": "stream",
          "text": [
            "(150, 112)\n"
          ],
          "name": "stdout"
        },
        {
          "output_type": "display_data",
          "data": {
            "image/png": "[encoded data removed]",
            "text/plain": [
              "<PIL.Image.Image image mode=L size=112x150 at 0x7FC490A582E8>"
            ]
          },
          "metadata": {
            "tags": []
          }
        }
      ]
    },
    {
      "cell_type": "markdown",
      "metadata": {
        "id": "pqZGNQKq47hO",
        "colab_type": "text"
      },
      "source": [
        "## Implement Erosion"
      ]
    },
    {
      "cell_type": "code",
      "metadata": {
        "id": "38oybL5V7ZOy",
        "colab_type": "code",
        "outputId": "0b42da8a-68e4-4143-df96-b3e0d66f68c4",
        "colab": {
          "base_uri": "https://localhost:8080/",
          "height": 167
        }
      },
      "source": [
        "def erosion(img,s):\n",
        "  m,n = img.shape\n",
        "  k = int(s/2)\n",
        "  result = np.zeros_like(img)\n",
        "  for i in range(m):\n",
        "    for j in range(n):\n",
        "      is_hold = True\n",
        "      for ii in range(-k,k+1):\n",
        "        if i +ii < m :\n",
        "          for jj in range(-k,k+1):\n",
        "            if j + jj < n and img[i+ii,j+jj] == 0 :\n",
        "              is_hold = False\n",
        "              break\n",
        "          if result[i,j] == False :\n",
        "            break\n",
        "\n",
        "      if is_hold == True :\n",
        "        result[i,j] = 255\n",
        "\n",
        "  return result\n",
        "\n",
        "s = 7\n",
        "result = erosion(img,s)\n",
        "stack = np.hstack([img,result])\n",
        "cv2_imshow(stack)\n"
      ],
      "execution_count": 18,
      "outputs": [
        {
          "output_type": "display_data",
          "data": {
            "image/png": "[encoded data removed]",
            "text/plain": [
              "<PIL.Image.Image image mode=L size=224x150 at 0x7FC490A05358>"
            ]
          },
          "metadata": {
            "tags": []
          }
        }
      ]
    },
    {
      "cell_type": "markdown",
      "metadata": {
        "id": "hpF3w89H6LcL",
        "colab_type": "text"
      },
      "source": [
        "## Implement dilation"
      ]
    },
    {
      "cell_type": "code",
      "metadata": {
        "id": "d7wlzkfk5oY0",
        "colab_type": "code",
        "outputId": "b6574729-bd07-465f-cee2-6d35bc83e5e1",
        "colab": {
          "base_uri": "https://localhost:8080/",
          "height": 167
        }
      },
      "source": [
        "def dilation(img,s):\n",
        "  m,n = img.shape\n",
        "  k = int(s/2)\n",
        "  result = np.zeros_like(img)\n",
        "  for i in range(m):\n",
        "    for j in range(n):\n",
        "      is_hold = False\n",
        "      for ii in range(-k,k+1):\n",
        "        if i +ii < m :\n",
        "          for jj in range(-k,k+1):\n",
        "            if j + jj < n and img[i+ii,j+jj] == 255 :\n",
        "              is_hold = True\n",
        "              break\n",
        "          if result[i,j] == True :\n",
        "            break\n",
        "\n",
        "      if is_hold == True :\n",
        "        result[i,j] = 255\n",
        "\n",
        "  return result\n",
        "\n",
        "s = 7\n",
        "result = dilation(img,s)\n",
        "stack = np.hstack([img,result])\n",
        "cv2_imshow(stack)\n"
      ],
      "execution_count": 19,
      "outputs": [
        {
          "output_type": "display_data",
          "data": {
            "image/png": "[encoded data removed]",
            "text/plain": [
              "<PIL.Image.Image image mode=L size=224x150 at 0x7FC490A0A400>"
            ]
          },
          "metadata": {
            "tags": []
          }
        }
      ]
    },
    {
      "cell_type": "markdown",
      "metadata": {
        "id": "3jGbLvSe7P3p",
        "colab_type": "text"
      },
      "source": [
        "## Implement Opening\n"
      ]
    },
    {
      "cell_type": "code",
      "metadata": {
        "id": "Ye7HtYOT3Y6X",
        "colab_type": "code",
        "colab": {
          "base_uri": "https://localhost:8080/",
          "height": 317
        },
        "outputId": "522e3217-a084-4d4f-e3a4-b0fa4dfa9dea"
      },
      "source": [
        "s = 7\n",
        "image_ero = erosion(img,s)\n",
        "cv2_imshow(image_ero)\n",
        "\n",
        "img_open = dilation(image_ero,s)\n",
        "stack = np.hstack([img,img_open])\n",
        "cv2_imshow(stack)\n"
      ],
      "execution_count": 21,
      "outputs": [
        {
          "output_type": "display_data",
          "data": {
            "image/png": "[encoded data removed]",
            "text/plain": [
              "<PIL.Image.Image image mode=L size=112x150 at 0x7FC490A0AEB8>"
            ]
          },
          "metadata": {
            "tags": []
          }
        },
        {
          "output_type": "display_data",
          "data": {
            "image/png": "[encoded data removed]",
            "text/plain": [
              "<PIL.Image.Image image mode=L size=224x150 at 0x7FC490A0AE10>"
            ]
          },
          "metadata": {
            "tags": []
          }
        }
      ]
    },
    {
      "cell_type": "markdown",
      "metadata": {
        "id": "-mk6L3hp7ZxO",
        "colab_type": "text"
      },
      "source": [
        "## Implement Closing\n"
      ]
    },
    {
      "cell_type": "code",
      "metadata": {
        "id": "EYuq13GT7cQk",
        "colab_type": "code",
        "colab": {
          "base_uri": "https://localhost:8080/",
          "height": 167
        },
        "outputId": "9cdd9710-30ba-4c9b-ee14-a418837bbc81"
      },
      "source": [
        "s = 7\n",
        "\n",
        "img_dila = dilation(img,s)\n",
        "image_clo = erosion(img_dila,s)\n",
        "\n",
        "stack = np.hstack([img,image_clo])\n",
        "cv2_imshow(stack)"
      ],
      "execution_count": 23,
      "outputs": [
        {
          "output_type": "display_data",
          "data": {
            "image/png": "[encoded data removed]",
            "text/plain": [
              "<PIL.Image.Image image mode=L size=224x150 at 0x7FC490A13710>"
            ]
          },
          "metadata": {
            "tags": []
          }
        }
      ]
    }
  ]
}